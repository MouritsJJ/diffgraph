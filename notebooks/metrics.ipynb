{
 "cells": [
  {
   "cell_type": "code",
   "execution_count": null,
   "metadata": {},
   "outputs": [],
   "source": [
    "import sys\n",
    "import os\n",
    "sys.path.append(os.path.abspath('../Graph_Framework/'))\n",
    "\n",
    "import numpy as np\n",
    "import pandas as pd\n",
    "import torch\n",
    "import os\n",
    "from tqdm import tqdm\n",
    "from rdkit.Chem import SDMolSupplier\n",
    "\n",
    "from metrics import *\n",
    "\n",
    "def get_sdf_molsuppliers(paths):\n",
    "    suppliers = []\n",
    "    for folder in paths:\n",
    "        suppliers.append([])\n",
    "        for file in os.listdir(folder):\n",
    "            supplier = SDMolSupplier(os.path.join(folder, file), sanitize=False, removeHs=False, strictParsing=False)\n",
    "            suppliers[-1].append(supplier)\n",
    "    return suppliers\n",
    "\n",
    "def get_file_content(paths):\n",
    "    content = []\n",
    "    for folder in paths:\n",
    "        content.append([])\n",
    "        for file in os.listdir(folder):\n",
    "            d = torch.load(os.path.join(folder, file))\n",
    "            content[-1].append(d)\n",
    "    return content\n",
    "\n",
    "def latex_table_line(line):\n",
    "    return \" & \".join(line) + r\"\\\\\" + \"\\n\"\n",
    "\n",
    "def latex_table(names, columns, headers, index):\n",
    "    table = latex_table_line(headers)\n",
    "    for i, name in enumerate(names):\n",
    "        table += latex_table_line([name] + [f\"{x.mean():.2f} $\\pm$ {x.std():.2f}\" for x in columns[i][index]])\n",
    "    return table\n",
    "\n",
    "def plot_counts(columns, names, index, headers, xlabel, ylabel):\n",
    "    data = [[x.mean() for x in columns[i][index]] for i in range(len(names))]\n",
    "    data = [x / sum(x) for x in data]\n",
    "    data = [[headers[i]] + list(x) for i, x in enumerate(np.array(data).transpose(1,0))]\n",
    "\n",
    "    df = pd.DataFrame(data, columns=[xlabel] + names)\n",
    "    df.plot(x=xlabel, ylabel=ylabel, kind=\"bar\", stacked=False)\n",
    "    "
   ]
  },
  {
   "attachments": {},
   "cell_type": "markdown",
   "metadata": {},
   "source": [
    "# Paths"
   ]
  },
  {
   "cell_type": "code",
   "execution_count": null,
   "metadata": {},
   "outputs": [],
   "source": [
    "paths = [\n",
    "    '../experiments/cat_cat_H_cosine/samples',\n",
    "    '../experiments/cat_con_H_cosine/samples',\n",
    "    '../experiments/cat_cat_noH_cosine/samples',\n",
    "    '../experiments/cat_con_noH_cosine/samples',\n",
    "]\n",
    "names = [\n",
    "    'Categorical',\n",
    "    'Continuous',\n",
    "    'Categorical (No H)',\n",
    "    'Continuous (No H)',\n",
    "]"
   ]
  },
  {
   "attachments": {},
   "cell_type": "markdown",
   "metadata": {},
   "source": [
    "## Validity, uniqueness and novelty"
   ]
  },
  {
   "cell_type": "code",
   "execution_count": null,
   "metadata": {},
   "outputs": [],
   "source": [
    "# Dataset smiles\n",
    "dset_smiles = load_smiles('./smiles.txt')\n",
    "\n",
    "# Content\n",
    "content = []\n",
    "columns = get_sdf_molsuppliers(paths)\n",
    "for row in columns:\n",
    "    content.append([])\n",
    "    for col in tqdm(row):\n",
    "        mols = [mol for mol in col]\n",
    "        valid, all = compute_validity(mols)\n",
    "        samples = len(all)\n",
    "        unique = compute_uniqueness(valid)\n",
    "        novel = compute_novelty(unique, dset_smiles)\n",
    "        novel_h = compute_novelty(unique, dset_smiles, remove_h=True)\n",
    "        valid, unique, novel, novel_h = len(valid), len(unique), len(novel), len(novel_h)\n",
    "        content[-1].append([valid/samples, unique/samples, unique/valid, novel/samples, novel/valid, novel/unique, novel_h/samples, novel_h/valid, novel_h/unique])\n",
    "\n",
    "content = np.array(content).transpose(0, 2, 1) * 100"
   ]
  },
  {
   "cell_type": "code",
   "execution_count": null,
   "metadata": {},
   "outputs": [],
   "source": [
    "headers = [r\"\\textbf{Distribution}\", r\"\\textbf{Schedule}\", r\"$\\boldsymbol{V}$\", r\"$\\boldsymbol{U_s}$\", r\"$\\boldsymbol{U_v}$\"]\n",
    "index = [0, 1, 2]\n",
    "print(latex_table(names, content, headers, index))\n",
    "\n",
    "headers = [r\"\\textbf{Distribution}\", r\"\\textbf{Schedule}\", r\"$\\boldsymbol{N_s}$\", r\"$\\boldsymbol{N_v}$\", r\"$\\boldsymbol{N_u}$\"]\n",
    "index = [3, 4, 5]\n",
    "print(latex_table(names, content, headers, index))\n",
    "\n",
    "headers = [r\"\\textbf{Distribution}\", r\"\\textbf{Schedule}\", r\"$\\boldsymbol{N_s}$\", r\"$\\boldsymbol{N_v}$\", r\"$\\boldsymbol{N_u}$\"]\n",
    "index = [6, 7, 8]\n",
    "print(latex_table(names, content, headers, index))"
   ]
  },
  {
   "attachments": {},
   "cell_type": "markdown",
   "metadata": {},
   "source": [
    "# RMSD & Energy"
   ]
  },
  {
   "cell_type": "code",
   "execution_count": null,
   "metadata": {},
   "outputs": [],
   "source": [
    "from rdkit import Chem\n",
    "from rdkit.Chem import AllChem\n",
    "import numpy as np\n",
    "\n",
    "raws = []\n",
    "results = []\n",
    "suppliers = get_sdf_molsuppliers(paths)\n",
    "for model in suppliers:\n",
    "    results.append([])\n",
    "    for supplier in tqdm(model):\n",
    "        values = []\n",
    "        for i, mol in enumerate(supplier):\n",
    "            try :\n",
    "                Chem.SanitizeMol(mol)\n",
    "                mol_new = mol.__copy__()\n",
    "\n",
    "                mp = AllChem.MMFFGetMoleculeProperties(mol_new, mmffVariant='MMFF94')\n",
    "                ff = AllChem.MMFFGetMoleculeForceField(mol_new, mp)\n",
    "                E_0 = ff.CalcEnergy()\n",
    "                ff.Minimize()\n",
    "                E_min = ff.CalcEnergy()\n",
    "\n",
    "                rms = AllChem.GetBestRMS(mol, mol_new)\n",
    "\n",
    "                if np.isnan(E_0) or np.isnan(E_min): continue\n",
    "                if E_0 > 1000000000: continue\n",
    "\n",
    "                values.append([i, E_0, E_min, (E_0 - E_min) / mol.GetNumAtoms(), rms])\n",
    "            except: continue\n",
    "        values = np.array(values)\n",
    "        values[:, 3] = np.clip(values[:, 3], a_min=0, a_max=None)\n",
    "        raws.append(values)\n",
    "        results[-1].append(values.transpose(1, 0).mean(-1))\n",
    "\n",
    "results = np.array(results).transpose(0, 2, 1)"
   ]
  },
  {
   "cell_type": "code",
   "execution_count": null,
   "metadata": {},
   "outputs": [],
   "source": [
    "headers = [r\"\\textbf{Model}\", r\"\\textbf{Energy}\", r\"\\textbf{Minimised}\", r\"\\textbf{Strain}\", r\"\\textbf{RMSD}\"]\n",
    "index = [1, 2, 3, 4, 5]\n",
    "print(latex_table(names, results, headers, index))"
   ]
  },
  {
   "attachments": {},
   "cell_type": "markdown",
   "metadata": {},
   "source": [
    "# Visualise Selected Generated Molecules"
   ]
  },
  {
   "cell_type": "code",
   "execution_count": null,
   "metadata": {},
   "outputs": [],
   "source": [
    "import py3Dmol\n",
    "from rdkit import Chem\n",
    "from rdkit.Chem import AllChem\n",
    "\n",
    "suppliers = get_sdf_molsuppliers(paths)\n",
    "# Nice examples, good structure but high energy, stretched bonds\n",
    "indices = [\n",
    "    # 0, 5028; ; 0, 5\n",
    "    [[0, 5028], [0, 2169], [0, 217]],\n",
    "    # 0, 186; 1, 5764; 0, 1596\n",
    "    [[0, 186], [1, 5764], [0, 1596]],\n",
    "    # 0, 155; 1, 5542; 0, 3\n",
    "    [[0, 155], [1, 5542], [0, 3]], \n",
    "    # 0, 904; 0, 2644; 0, 5884\n",
    "    [[0, 904], [0, 2644], [0, 5884]] \n",
    "]\n",
    "\n",
    "h = 300\n",
    "v = py3Dmol.view(width=4*h, height=3*h, viewergrid=(3, 4), linked=False)\n",
    "v.removeAllModels()\n",
    "\n",
    "\n",
    "for i, index in enumerate(indices):\n",
    "    for j, (k, l) in enumerate(index):\n",
    "        mol = suppliers[i][k][l]\n",
    "\n",
    "        Chem.SanitizeMol(mol)\n",
    "        mol_new = mol.__copy__()\n",
    "        mp = AllChem.MMFFGetMoleculeProperties(mol_new, mmffVariant='MMFF94')\n",
    "        ff = AllChem.MMFFGetMoleculeForceField(mol_new, mp)\n",
    "        E_0 = ff.CalcEnergy()\n",
    "        ff.Minimize()\n",
    "        E_min = ff.CalcEnergy()\n",
    "\n",
    "        rms = AllChem.GetBestRMS(mol, mol_new)\n",
    "        print(j, i, rms)\n",
    "\n",
    "        v.addModel(Chem.MolToMolBlock(mol), viewer=(j, i))\n",
    "        v.setStyle({'model': 0}, {'stick': {}}, viewer=(j, i))\n",
    "        v.addModel(Chem.MolToMolBlock(mol_new), viewer=(j, i))\n",
    "        v.setStyle({'model': 1}, {'stick': {'color': 'lightgreen', 'opacity':0.65}}, viewer=(j, i))\n",
    "        v.setBackgroundColor('white', viewer=(j, i))\n",
    "        v.zoomTo(viewer=(j, i))\n",
    "v.render()\n"
   ]
  },
  {
   "attachments": {},
   "cell_type": "markdown",
   "metadata": {},
   "source": [
    "# Dataset RMSD & Energy"
   ]
  },
  {
   "cell_type": "code",
   "execution_count": null,
   "metadata": {},
   "outputs": [],
   "source": [
    "from rdkit.Chem import AllChem\n",
    "\n",
    "supplier = Chem.SDMolSupplier('../Graph_Framework/data/qm9/raw/gdb9.sdf', sanitize=False, removeHs=False, strictParsing=False)\n",
    "values = []\n",
    "for i, mol in enumerate(tqdm(supplier)):\n",
    "    try :\n",
    "        Chem.SanitizeMol(mol)\n",
    "        mol_new = mol.__copy__()\n",
    "\n",
    "        mp = AllChem.MMFFGetMoleculeProperties(mol_new, mmffVariant='MMFF94')\n",
    "        ff = AllChem.MMFFGetMoleculeForceField(mol_new, mp)\n",
    "        E_0 = ff.CalcEnergy()\n",
    "        ff.Minimize()\n",
    "        E_min = ff.CalcEnergy()\n",
    "\n",
    "        rms = AllChem.GetBestRMS(mol, mol_new)\n",
    "\n",
    "        if np.isnan(E_0) or np.isnan(E_min): continue\n",
    "        if E_0 > 1000000000: continue\n",
    "\n",
    "        values.append([i, E_0, E_min, (E_0 - E_min) / mol.GetNumAtoms(), rms])\n",
    "    except: continue\n",
    "values = np.array(values)\n",
    "print(values.shape)\n",
    "values = values.transpose(1,0)\n",
    "values.mean(-1), values.std(-1)"
   ]
  }
 ],
 "metadata": {
  "kernelspec": {
   "display_name": "dev",
   "language": "python",
   "name": "python3"
  },
  "language_info": {
   "codemirror_mode": {
    "name": "ipython",
    "version": 3
   },
   "file_extension": ".py",
   "mimetype": "text/x-python",
   "name": "python",
   "nbconvert_exporter": "python",
   "pygments_lexer": "ipython3",
   "version": "3.11.7"
  },
  "orig_nbformat": 4
 },
 "nbformat": 4,
 "nbformat_minor": 2
}
